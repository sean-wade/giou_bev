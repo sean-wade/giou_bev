{
 "cells": [
  {
   "cell_type": "code",
   "execution_count": 1,
   "id": "2dac2b41-9b53-4f5b-9504-303e835a9041",
   "metadata": {},
   "outputs": [],
   "source": [
    "import cv2\n",
    "import numpy as np\n",
    "\n",
    "\n",
    "def iou_batch(bb_dt, bb_gt):\n",
    "    \"\"\"\n",
    "    From SORT: Computes IOU between two bboxes in the form [x1,y1,x2,y2]\n",
    "    \"\"\"\n",
    "    bb_gt = np.expand_dims(bb_gt, 0)\n",
    "    bb_dt = np.expand_dims(bb_dt, 1)\n",
    "\n",
    "    xx1 = np.maximum(bb_dt[..., 0], bb_gt[..., 0])\n",
    "    yy1 = np.maximum(bb_dt[..., 1], bb_gt[..., 1])\n",
    "    xx2 = np.minimum(bb_dt[..., 2], bb_gt[..., 2])\n",
    "    yy2 = np.minimum(bb_dt[..., 3], bb_gt[..., 3])\n",
    "    w = np.maximum(0., xx2 - xx1)\n",
    "    h = np.maximum(0., yy2 - yy1)\n",
    "    wh = w * h\n",
    "    o = wh / ((bb_dt[..., 2] - bb_dt[..., 0]) * (bb_dt[..., 3] - bb_dt[..., 1])                                      \n",
    "        + (bb_gt[..., 2] - bb_gt[..., 0]) * (bb_gt[..., 3] - bb_gt[..., 1]) - wh)                                              \n",
    "    return(o)  \n",
    "\n",
    "\n",
    "def giou_batch(bb_dt, bb_gt):\n",
    "    \"\"\"\n",
    "    From SORT: Computes GIoU between two bboxes in the form [x1,y1,x2,y2]\n",
    "    \"\"\"\n",
    "    bb_gt = np.expand_dims(bb_gt, 0)\n",
    "    bb_dt = np.expand_dims(bb_dt, 1)\n",
    "\n",
    "    xx1 = np.maximum(bb_dt[..., 0], bb_gt[..., 0])\n",
    "    yy1 = np.maximum(bb_dt[..., 1], bb_gt[..., 1])\n",
    "    xx2 = np.minimum(bb_dt[..., 2], bb_gt[..., 2])\n",
    "    yy2 = np.minimum(bb_dt[..., 3], bb_gt[..., 3])\n",
    "    w = np.maximum(0., xx2 - xx1)\n",
    "    h = np.maximum(0., yy2 - yy1)\n",
    "    I = w * h\n",
    "    area1 = (bb_dt[..., 2] - bb_dt[..., 0]) * (bb_dt[..., 3] - bb_dt[..., 1])\n",
    "    area2 = (bb_gt[..., 2] - bb_gt[..., 0]) * (bb_gt[..., 3] - bb_gt[..., 1])\n",
    "    U = area1 + area2 - I\n",
    "    IoU = I / U\n",
    "\n",
    "    C_xx1 = np.minimum(bb_dt[..., 0], bb_gt[..., 0])\n",
    "    C_yy1 = np.minimum(bb_dt[..., 1], bb_gt[..., 1])\n",
    "    C_xx2 = np.maximum(bb_dt[..., 2], bb_gt[..., 2])\n",
    "    C_yy2 = np.maximum(bb_dt[..., 3], bb_gt[..., 3])\n",
    "    C_w = C_xx2 - C_xx1\n",
    "    C_h = C_yy2 - C_yy1\n",
    "    C_area = C_w * C_h\n",
    "    GIoU = IoU - (C_area - U)/C_area\n",
    "\n",
    "    return GIoU "
   ]
  },
  {
   "cell_type": "code",
   "execution_count": 2,
   "id": "07964d2f-a96e-4379-b11d-7e81766bb797",
   "metadata": {},
   "outputs": [],
   "source": [
    "def draw_bboxs(bbox1, bbox2, iou, giou):\n",
    "    img = 255 * np.ones((500, 500, 3), dtype=np.uint8)\n",
    "    img = cv2.rectangle(img, (bbox1[0], bbox1[1]), (bbox1[2], bbox1[3]), (255, 0, 0), 1)\n",
    "    img = cv2.rectangle(img, (bbox2[0], bbox2[1]), (bbox2[2], bbox2[3]), (0, 0, 255), 1)\n",
    "    \n",
    "    img = cv2.putText(img, \" iou=%.2f\"%iou, (10, 30), cv2.FONT_HERSHEY_SIMPLEX, 1, (0,255,0), 1)\n",
    "    img = cv2.putText(img, \"giou=%.2f\"%giou, (10, 60), cv2.FONT_HERSHEY_SIMPLEX, 1, (0,255,0), 1)\n",
    "    return img"
   ]
  },
  {
   "cell_type": "code",
   "execution_count": 7,
   "id": "2cf6f134-d504-402a-bfea-c7d281c75d29",
   "metadata": {},
   "outputs": [],
   "source": [
    "import random\n",
    "\n",
    "def random_bboxs(bboxes1):\n",
    "    bboxes2 = bboxes1.copy()\n",
    "    x1_gain = random.randint(-40,40)\n",
    "    y1_gain = random.randint(-120,120)\n",
    "    x2_gain = random.randint(-5,5)\n",
    "    y2_gain = random.randint(-5,5)\n",
    "    \n",
    "    bboxes2[0,0] += x1_gain\n",
    "    bboxes2[0,1] += y1_gain\n",
    "    bboxes2[0,2] = bboxes2[0,2] + x1_gain + x2_gain\n",
    "    bboxes2[0,3] = bboxes2[0,3] + y1_gain + y2_gain\n",
    "    \n",
    "    return bboxes2"
   ]
  },
  {
   "cell_type": "code",
   "execution_count": 8,
   "id": "ee8b862b-4fdb-4b97-9e3c-dd9ae3863af4",
   "metadata": {},
   "outputs": [],
   "source": [
    "bboxes1 = np.array(\n",
    "    [\n",
    "        [100, 200, 150, 300],\n",
    "    ]\n",
    ")\n",
    "\n",
    "for ii in range(1000):\n",
    "    bboxes2 = random_bboxs(bboxes1)\n",
    "    iou = iou_batch(bboxes1, bboxes2)[0,0]\n",
    "    giou = giou_batch(bboxes1, bboxes2)[0,0]\n",
    "    img = draw_bboxs(bboxes1[0], bboxes2[0], iou, giou)\n",
    "\n",
    "    cv2.imwrite(\"res/%d.jpg\"%ii, img)"
   ]
  },
  {
   "cell_type": "code",
   "execution_count": 44,
   "id": "e209b8b5-c7a9-4a39-ba24-1fb8a94c2c88",
   "metadata": {},
   "outputs": [
    {
     "data": {
      "text/plain": [
       "3"
      ]
     },
     "execution_count": 44,
     "metadata": {},
     "output_type": "execute_result"
    }
   ],
   "source": []
  },
  {
   "cell_type": "code",
   "execution_count": null,
   "id": "df7b5431-e69a-47ff-8129-2efa0ea120f0",
   "metadata": {},
   "outputs": [],
   "source": []
  }
 ],
 "metadata": {
  "kernelspec": {
   "display_name": "Python 3",
   "language": "python",
   "name": "python3"
  },
  "language_info": {
   "codemirror_mode": {
    "name": "ipython",
    "version": 3
   },
   "file_extension": ".py",
   "mimetype": "text/x-python",
   "name": "python",
   "nbconvert_exporter": "python",
   "pygments_lexer": "ipython3",
   "version": "3.6.9"
  }
 },
 "nbformat": 4,
 "nbformat_minor": 5
}
